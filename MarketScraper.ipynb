{
 "cells": [
  {
   "cell_type": "code",
   "execution_count": 2,
   "id": "f24db8c2-a11c-41aa-9257-e2c0b1307843",
   "metadata": {},
   "outputs": [],
   "source": [
    "%run PrimeItemParser.ipynb"
   ]
  },
  {
   "cell_type": "code",
   "execution_count": 3,
   "id": "8f1196d2-2ce0-4ca7-8e6d-56af7ac5d120",
   "metadata": {},
   "outputs": [],
   "source": [
    "import requests\n",
    "import json\n",
    "import os\n",
    "import time\n",
    "from datetime import datetime\n",
    "import glob\n",
    "\n",
    "def jprint(text):\n",
    "    print(json.dumps(text, indent=4))\n",
    "    \n",
    "#1 API Call\n",
    "def getBestTraders(itemname):\n",
    "    url = f'https://api.warframe.market/v1/items/{itemname}/orders'\n",
    "    text = requests.get(url).json()\n",
    "    text = text[\"payload\"][\"orders\"]\n",
    "    sellers = [order for order in text if order[\"order_type\"] == \"sell\" and order[\"user\"][\"status\"] == \"ingame\" and order[\"user\"][\"region\"] == \"en\" and order[\"platform\"] == \"pc\"]\n",
    "    buyers = [order for order in text if order[\"order_type\"] == \"buy\" and order[\"user\"][\"status\"] == \"ingame\" and order[\"user\"][\"region\"] == \"en\" and order[\"platform\"] == \"pc\"]\n",
    "    bestSeller = sorted(sellers, key=lambda order: order[\"platinum\"])[0]\n",
    "    bestBuyer = sorted(buyers, key=lambda order: order[\"platinum\"], reverse=True)[0]\n",
    "    #jprint(bestseller)\n",
    "    return bestSeller, bestBuyer\n",
    "\n",
    "#Returns data for the bestSeller and bestBuyer\n",
    "def getMarketSnapshot(itemname):\n",
    "    bestSeller, bestBuyer = getBestTraders(itemname)\n",
    "    return {\"datetime\" : datetime.now().isoformat(sep=\" \", timespec=\"seconds\"), \"BuyerPrice\": bestBuyer[\"platinum\"], \"SellerPrice\": bestSeller[\"platinum\"]}\n",
    "\n",
    "#Clears all the data in every dataframe recorded between startDate and endDate\n",
    "def clearDataFrames(primesToAnalyze):\n",
    "    for prime in primesToAnalyze:\n",
    "        emptyDF = pd.DataFrame(columns=['datetime', 'BuyerPrice', 'SellerPrice'])\n",
    "        emptyDF.to_csv(f\"itemDataFrames/{prime}.csv\")\n",
    "\n",
    "#jprint(getBestTraders(\"ash_prime_set\")[0])\n"
   ]
  },
  {
   "cell_type": "code",
   "execution_count": 4,
   "id": "0da3a930-b658-4d26-b77e-74eaa300d5d5",
   "metadata": {},
   "outputs": [],
   "source": [
    "import pandas as pd\n",
    "import os\n",
    "\n",
    "def initDataFrames(primesToAnalyze):\n",
    "    existingDataFrames = os.listdir(\"itemDataFrames\")\n",
    "    for prime in primesToAnalyze:\n",
    "        if not f\"{prime}.csv\" in existingDataFrames:\n",
    "            emptyDF = pd.DataFrame(columns=['datetime', 'BuyerPrice', 'SellerPrice'])\n",
    "            emptyDF.to_csv(f\"itemDataFrames/{prime}.csv\")\n"
   ]
  },
  {
   "cell_type": "code",
   "execution_count": 5,
   "id": "827bb002-2284-42a6-a6be-7ec7ae8c8a8c",
   "metadata": {},
   "outputs": [],
   "source": [
    "#clearDataFrames(primeSetNames)"
   ]
  },
  {
   "cell_type": "code",
   "execution_count": null,
   "id": "6a25bf4a-bcbe-45b6-95c9-93c4e4e53e13",
   "metadata": {},
   "outputs": [
    {
     "name": "stdout",
     "output_type": "stream",
     "text": [
      "Iteration 108\n",
      "0\n",
      "3\n",
      "6\n",
      "9\n",
      "12\n",
      "15\n",
      "18\n",
      "21\n",
      "24\n",
      "27\n",
      "30\n"
     ]
    }
   ],
   "source": [
    "import time\n",
    "from IPython.display import clear_output\n",
    "\n",
    "\n",
    "def updateCSVs(primesToAnalyze):\n",
    "    for i, primeName in enumerate(primesToAnalyze):\n",
    "        primeDF = pd.read_csv(f\"itemDataFrames/{primeName}.csv\", index_col=0)\n",
    "        currentPrices = pd.DataFrame(getMarketSnapshot(primeName), index=[0])\n",
    "        primeDF = pd.concat([primeDF, currentPrices], ignore_index=True) \n",
    "        primeDF.to_csv(f\"itemDataFrames/{primeName}.csv\")\n",
    "        if i % 3 == 0:\n",
    "            print(i)\n",
    "            time.sleep(1.1)\n",
    "            \n",
    "%run PrimeItemParser.ipynb\n",
    "primesToAnalyze = primeSetNames\n",
    "\n",
    "initDataFrames(primesToAnalyze)\n",
    "\n",
    "i = 0\n",
    "while True:\n",
    "    clear_output(wait=True)\n",
    "    print(\"Iteration\", i)\n",
    "    updateCSVs(primesToAnalyze)\n",
    "    i += 1\n"
   ]
  },
  {
   "cell_type": "code",
   "execution_count": null,
   "id": "c7b82bad-4986-4f45-b1b8-ced6ca257558",
   "metadata": {},
   "outputs": [],
   "source": []
  }
 ],
 "metadata": {
  "kernelspec": {
   "display_name": "Python 3 (ipykernel)",
   "language": "python",
   "name": "python3"
  },
  "language_info": {
   "codemirror_mode": {
    "name": "ipython",
    "version": 3
   },
   "file_extension": ".py",
   "mimetype": "text/x-python",
   "name": "python",
   "nbconvert_exporter": "python",
   "pygments_lexer": "ipython3",
   "version": "3.11.0"
  }
 },
 "nbformat": 4,
 "nbformat_minor": 5
}
