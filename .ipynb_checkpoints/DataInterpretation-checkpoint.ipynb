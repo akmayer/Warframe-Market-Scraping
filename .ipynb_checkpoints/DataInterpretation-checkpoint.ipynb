{
 "cells": [
  {
   "cell_type": "code",
   "execution_count": 24,
   "id": "0fd6512e-8d4c-4168-b1f4-659cf39fb4e1",
   "metadata": {},
   "outputs": [],
   "source": [
    "import pandas as pd\n",
    "from dateutil import parser\n",
    "from datetime import datetime, timedelta\n",
    "import numpy as np\n",
    "import matplotlib.pyplot as plt\n",
    "#primeDF = pd.read_csv(f\"itemDataFrames/ash_prime_set.csv\", index_col=0)\n",
    "#print(parser.parse(\"2024-01-19 02:17:31\") - parser.parse(\"2022-01-19 02:17:31\"))"
   ]
  },
  {
   "cell_type": "code",
   "execution_count": 2,
   "id": "42631cad-e926-4e43-b6ed-151dbb4e7f19",
   "metadata": {},
   "outputs": [],
   "source": [
    "#From https://stackoverflow.com/questions/46030055/python-time-weighted-average-pandas-grouped-by-time-interval\n",
    "#Answer by hugovdberg\n",
    "def resample_time_weighted_mean(x, target_index, closed=None, label=None):\n",
    "    shift = 1 if closed == \"right\" else -1\n",
    "    fill = \"bfill\" if closed == \"right\" else \"ffill\"\n",
    "    # Determine length of each interval (daylight saving aware)\n",
    "    extended_index = target_index.union(\n",
    "        [target_index[0] - target_index.freq, target_index[-1] + target_index.freq]\n",
    "    )\n",
    "    interval_lengths = -extended_index.to_series().diff(periods=shift)\n",
    "\n",
    "    # Create a combined index of the source index and target index and reindex to combined index\n",
    "    combined_index = x.index.union(extended_index)\n",
    "    x = x.reindex(index=combined_index, method=fill)\n",
    "    interval_lengths = interval_lengths.reindex(index=combined_index, method=fill)\n",
    "\n",
    "    # Determine weights of each value and multiply source values\n",
    "    weights = -x.index.to_series().diff(periods=shift) / interval_lengths\n",
    "    x = x.mul(weights, axis=0)\n",
    "\n",
    "    # Resample to new index, the final reindex is necessary because resample \n",
    "    # might return more rows based on the frequency\n",
    "    return (\n",
    "        x.resample(target_index.freq, closed=closed, label=label)\n",
    "        .sum()\n",
    "        .reindex(target_index)\n",
    "    )"
   ]
  },
  {
   "cell_type": "code",
   "execution_count": 3,
   "id": "b105f78c-f8c0-4e63-b846-868417ad48ba",
   "metadata": {},
   "outputs": [],
   "source": [
    "\n",
    "#Returns a dataframe object with datetime column converted to datetime objects\n",
    "#itemName has underscores such as ash_prime_set\n",
    "def initDF(itemName):\n",
    "    df = pd.read_csv(f\"itemDataFrames/{itemName}.csv\", index_col=0)\n",
    "    df[\"datetime\"] = pd.to_datetime(df['datetime'])\n",
    "    return df\n",
    "\n",
    "#converts a dataframe to the timeWeightedAverage dataframe\n",
    "#timestep is a string of the form \"15min\" or \"30T\"\n",
    "def convertTWA(df, timeStep):\n",
    "    df = df.set_index(\"datetime\")\n",
    "    opts = dict(closed=\"right\", label=\"right\")\n",
    "    return resample_time_weighted_mean(\n",
    "        df, pd.DatetimeIndex(df.resample(timeStep, **opts).groups.keys(), freq=\"infer\"), **opts\n",
    "        ).reset_index().rename(columns={\"index\": \"datetime\"})\n",
    "\n",
    "#initializes from scratch a time weighted average dataframe according to\n",
    "#a timestep to group by - timestep is a string of the form \"15min\" or \"30T\"\n",
    "def initGroupedDF(itemName, timeStep):\n",
    "    return df\n",
    "\n",
    "def clearMissingData(originalDF, TWADF):\n",
    "    filteredTWA = TWADF.copy()\n",
    "    for i in TWADF.index[:-1]:\n",
    "        if len(originalDF[(originalDF['datetime'] >= TWADF['datetime'].iloc[i]) & (originalDF['datetime'] < TWADF['datetime'].iloc[i+1])]) == 0:\n",
    "            filteredTWA.iloc[i, [x for x in range(1, filteredTWA.shape[1])]] = None\n",
    "    return filteredTWA\n",
    "\n",
    "%run PrimeItemParser.ipynb\n",
    "#for name in primeSetNames:\n",
    "    #timeStep = \"15min\"\n",
    "    #df = initDF(name)\n",
    "    #TWAdf = convertTWA(df, timeStep)\n",
    "    #TWAdf = TWAdf.iloc[0:-1]\n",
    "    #filteredDF = clearMissingData(df, TWAdf)\n",
    "    #print(name)\n",
    "    #display(filteredDF)"
   ]
  },
  {
   "cell_type": "code",
   "execution_count": 4,
   "id": "3d1116fd-1732-4e4f-a175-dc9da21ccf62",
   "metadata": {},
   "outputs": [
    {
     "name": "stdout",
     "output_type": "stream",
     "text": [
      "Uses data sampled 3 times per second (total, not per item)\n",
      "and displays the last 20 rows of a dataframe created by taking\n",
      "the time-weighted average of the full dataframe of samples\n",
      "to show trends in prices over time.\n"
     ]
    },
    {
     "data": {
      "application/vnd.jupyter.widget-view+json": {
       "model_id": "0db52a2f47184160ab12a066b59867c9",
       "version_major": 2,
       "version_minor": 0
      },
      "text/plain": [
       "Combobox(value='', description='Item Name:', ensure_option=True, options=('ash_prime_set', 'atlas_prime_set', …"
      ]
     },
     "metadata": {},
     "output_type": "display_data"
    },
    {
     "data": {
      "application/vnd.jupyter.widget-view+json": {
       "model_id": "8d1d35ec7cf74f27bca233c995818248",
       "version_major": 2,
       "version_minor": 0
      },
      "text/plain": [
       "Text(value='15', description='Time Interval:', placeholder='15', style=TextStyle(description_width='initial'))"
      ]
     },
     "metadata": {},
     "output_type": "display_data"
    },
    {
     "data": {
      "application/vnd.jupyter.widget-view+json": {
       "model_id": "292cc6def84c4eaba21ed99d4fce7ca4",
       "version_major": 2,
       "version_minor": 0
      },
      "text/plain": [
       "Dropdown(description='Time Unit:', index=1, options=(('Seconds', 's'), ('Minutes', 'min'), ('Hours', 'h')), st…"
      ]
     },
     "metadata": {},
     "output_type": "display_data"
    }
   ],
   "source": [
    "import ipywidgets as widgets\n",
    "from IPython.display import display\n",
    "x = widgets.Combobox(\n",
    "    # value='John',\n",
    "    placeholder='Choose A Warframe',\n",
    "    options=primeSetNames,\n",
    "    description='Item Name:',\n",
    "    ensure_option=True,\n",
    "    disabled=False,\n",
    "    style=dict(description_width='initial')\n",
    ")\n",
    "y = widgets.Text(\n",
    "    value='15',\n",
    "    placeholder='15',\n",
    "    description='Time Interval:',\n",
    "    disabled=False,\n",
    "    style=dict(description_width='initial')\n",
    ")\n",
    "z = widgets.Dropdown(\n",
    "    options=[(\"Seconds\", 's'), (\"Minutes\", 'min'), (\"Hours\", 'h')],\n",
    "    value='min',\n",
    "    description='Time Unit:',\n",
    "    disabled=False,\n",
    "    style=dict(description_width='initial')\n",
    ")\n",
    "timeOpDic = {\"s\" : \"second\", \"min\": \"minute\", \"h\": \"hour\"}\n",
    "\n",
    "print(\"Uses data sampled 3 times per second (total, not per item)\\nand displays the last 20 rows of a dataframe created by taking\\nthe time-weighted average of the full dataframe of samples\\nto show trends in prices over time.\")\n",
    "display(x)\n",
    "display(y)\n",
    "display(z)"
   ]
  },
  {
   "cell_type": "code",
   "execution_count": 41,
   "id": "bbc06110-632c-4450-8a6f-c193735ad0a4",
   "metadata": {},
   "outputs": [
    {
     "data": {
      "application/vnd.jupyter.widget-view+json": {
       "model_id": "642c065af388440c96003458ee76c5ea",
       "version_major": 2,
       "version_minor": 0
      },
      "text/plain": [
       "Button(description='Show Data!', style=ButtonStyle())"
      ]
     },
     "metadata": {},
     "output_type": "display_data"
    },
    {
     "data": {
      "application/vnd.jupyter.widget-view+json": {
       "model_id": "9af3e35947d44d5380d55a672c4003b7",
       "version_major": 2,
       "version_minor": 0
      },
      "text/plain": [
       "Output()"
      ]
     },
     "metadata": {},
     "output_type": "display_data"
    }
   ],
   "source": [
    "from IPython.display import clear_output\n",
    "import plotly.express as px\n",
    "from plotly_resampler import register_plotly_resampler\n",
    "\n",
    "# Call the register function once and all Figures/FigureWidgets will be wrapped\n",
    "# according to the register_plotly_resampler its `mode` argument\n",
    "register_plotly_resampler(mode='auto')\n",
    "\n",
    "pd.options.plotting.backend = \"plotly\"\n",
    "dataframeButton = widgets.Button(description=\"Show Data!\")\n",
    "output = widgets.Output()\n",
    "\n",
    "display(dataframeButton, output)\n",
    "\n",
    "def on_button_clicked(b):\n",
    "    with output:\n",
    "        clear_output(wait=True)\n",
    "        try:\n",
    "            timeStep = y.value + z.value\n",
    "            df = initDF(x.value)\n",
    "            TWAdf = convertTWA(df, timeStep)\n",
    "            TWAdf = TWAdf.iloc[:-1]\n",
    "            filteredDF = clearMissingData(df, TWAdf)\n",
    "            fig = filteredDF.plot(\n",
    "                x='datetime', \n",
    "                y=['BuyerPrice', 'SellerPrice'], \n",
    "                title=f\"Price Vs Time (Time Weighted Average)<br><sup>Averaged by {y.value} {timeOpDic[z.value]} intervals</sup>\",\n",
    "            )\n",
    "            fig.show()\n",
    "            \n",
    "        except FileNotFoundError:\n",
    "            print(\"Enter A Valid Warframe Name\")\n",
    "        except TypeError:\n",
    "            print(\"Enter a smaller time interval, \\nthere isn't enough data to support this interval yet.\")\n",
    "        \n",
    "\n",
    "\n",
    "dataframeButton.on_click(on_button_clicked)"
   ]
  }
 ],
 "metadata": {
  "kernelspec": {
   "display_name": "Python 3 (ipykernel)",
   "language": "python",
   "name": "python3"
  },
  "language_info": {
   "codemirror_mode": {
    "name": "ipython",
    "version": 3
   },
   "file_extension": ".py",
   "mimetype": "text/x-python",
   "name": "python",
   "nbconvert_exporter": "python",
   "pygments_lexer": "ipython3",
   "version": "3.11.0"
  }
 },
 "nbformat": 4,
 "nbformat_minor": 5
}
