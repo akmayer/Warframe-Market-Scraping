{
 "cells": [
  {
   "cell_type": "code",
   "execution_count": 210,
   "id": "0fd6512e-8d4c-4168-b1f4-659cf39fb4e1",
   "metadata": {},
   "outputs": [],
   "source": [
    "import pandas as pd\n",
    "from dateutil import parser\n",
    "from datetime import datetime, timedelta\n",
    "import numpy as np\n",
    "import matplotlib.pyplot as plt\n",
    "#primeDF = pd.read_csv(f\"itemDataFrames/ash_prime_set.csv\", index_col=0)\n",
    "#print(parser.parse(\"2024-01-19 02:17:31\") - parser.parse(\"2022-01-19 02:17:31\"))"
   ]
  },
  {
   "cell_type": "code",
   "execution_count": 211,
   "id": "42631cad-e926-4e43-b6ed-151dbb4e7f19",
   "metadata": {},
   "outputs": [],
   "source": [
    "#From https://stackoverflow.com/questions/46030055/python-time-weighted-average-pandas-grouped-by-time-interval\n",
    "#Answer by hugovdberg\n",
    "def resample_time_weighted_mean(x, target_index, closed=None, label=None):\n",
    "    shift = 1 if closed == \"right\" else -1\n",
    "    fill = \"bfill\" if closed == \"right\" else \"ffill\"\n",
    "    # Determine length of each interval (daylight saving aware)\n",
    "    extended_index = target_index.union(\n",
    "        [target_index[0] - target_index.freq, target_index[-1] + target_index.freq]\n",
    "    )\n",
    "    interval_lengths = -extended_index.to_series().diff(periods=shift)\n",
    "\n",
    "    # Create a combined index of the source index and target index and reindex to combined index\n",
    "    combined_index = x.index.union(extended_index)\n",
    "    x = x.reindex(index=combined_index, method=fill)\n",
    "    interval_lengths = interval_lengths.reindex(index=combined_index, method=fill)\n",
    "\n",
    "    # Determine weights of each value and multiply source values\n",
    "    weights = -x.index.to_series().diff(periods=shift) / interval_lengths\n",
    "    x = x.mul(weights, axis=0)\n",
    "\n",
    "    # Resample to new index, the final reindex is necessary because resample \n",
    "    # might return more rows based on the frequency\n",
    "    return (\n",
    "        x.resample(target_index.freq, closed=closed, label=label)\n",
    "        .sum()\n",
    "        .reindex(target_index)\n",
    "    )"
   ]
  },
  {
   "cell_type": "code",
   "execution_count": 217,
   "id": "b105f78c-f8c0-4e63-b846-868417ad48ba",
   "metadata": {},
   "outputs": [],
   "source": [
    "import re\n",
    "from datetime import timedelta\n",
    "\n",
    "def applyCountDataRecorded(datetime, timeInterval, originalDF):\n",
    "    return len(originalDF[(originalDF['datetime'] > datetime - timeInterval) & (originalDF['datetime'] <= datetime)])\n",
    "\n",
    "regex = re.compile(r'^((?P<days>[\\.\\d]+?)d)?((?P<hours>[\\.\\d]+?)h)?((?P<minutes>[\\.\\d]+?)T)?((?P<seconds>[\\.\\d]+?)s)?$')\n",
    "def parse_time(time_str):\n",
    "    \"\"\"\n",
    "    Parse a time string e.g. (2h13m) into a timedelta object.\n",
    "\n",
    "    Modified from virhilo's answer at https://stackoverflow.com/a/4628148/851699\n",
    "\n",
    "    :param time_str: A string identifying a duration.  (eg. 2h13m)\n",
    "    :return datetime.timedelta: A datetime.timedelta object\n",
    "    \"\"\"\n",
    "    parts = regex.match(time_str)\n",
    "    assert parts is not None, \"Could not parse any time information from '{}'.  Examples of valid strings: '8h', '2d8h5m20s', '2m4s'\".format(time_str)\n",
    "    time_params = {name: float(param) for name, param in parts.groupdict().items() if param}\n",
    "    return timedelta(**time_params)\n",
    "\n",
    "\n",
    "#Returns a dataframe object with datetime column converted to datetime objects\n",
    "#itemName has underscores such as ash_prime_set\n",
    "def initDF(itemName):\n",
    "    df = pd.read_csv(f\"itemDataFrames/{itemName}.csv\", index_col=0)\n",
    "    df[\"datetime\"] = pd.to_datetime(df['datetime'])\n",
    "    return df\n",
    "\n",
    "#converts a dataframe to the timeWeightedAverage dataframe\n",
    "#timestep is a string of the form \"15min\" or \"30T\"\n",
    "def convertTWA(df, timeStep):\n",
    "    df = df.set_index(\"datetime\")\n",
    "    opts = dict(closed=\"right\", label=\"right\")\n",
    "    return resample_time_weighted_mean(\n",
    "        df, pd.DatetimeIndex(df.resample(timeStep, **opts).groups.keys(), freq=\"infer\"), **opts\n",
    "        ).reset_index().rename(columns={\"index\": \"datetime\"})\n",
    "\n",
    "#initializes from scratch a time weighted average dataframe according to\n",
    "#a timestep to group by - timestep is a string of the form \"15min\" or \"30T\"\n",
    "def initGroupedDF(itemName, timeStep):\n",
    "    return df\n",
    "\n",
    "#timeInterval is a string that can be parsed into a time_delta object by parse_time\n",
    "\n",
    "def clearMissingData(originalDF, TWADF, timeInterval):\n",
    "    filteredDF = TWADF.copy()\n",
    "    filteredDF[\"DataPresent\"] = TWADF.apply(lambda row : applyCountDataRecorded(row['datetime'], parse_time(timeInterval), originalDF), axis = 1)\n",
    "    filteredDF.loc[filteredDF[\"DataPresent\"] == 0, [\"BuyerPrice\", \"SellerPrice\"]] = None\n",
    "    filteredDF = filteredDF.drop(columns = \"DataPresent\")\n",
    "    return filteredDF\n",
    "\n",
    "%run PrimeItemParser.ipynb\n",
    "#for name in primeSetNames:\n",
    "    #timeStep = \"15min\"\n",
    "    #df = initDF(name)\n",
    "    #TWAdf = convertTWA(df, timeStep)\n",
    "    #TWAdf = TWAdf.iloc[0:-1]\n",
    "    #filteredDF = clearMissingData(df, TWAdf)\n",
    "    #print(name)\n",
    "    #display(filteredDF)"
   ]
  },
  {
   "cell_type": "code",
   "execution_count": 218,
   "id": "3d1116fd-1732-4e4f-a175-dc9da21ccf62",
   "metadata": {},
   "outputs": [
    {
     "name": "stdout",
     "output_type": "stream",
     "text": [
      "Uses data sampled 3 times per second (total, not per item)\n",
      "and displays the last 20 rows of a dataframe created by taking\n",
      "the time-weighted average of the full dataframe of samples\n",
      "to show trends in prices over time.\n"
     ]
    },
    {
     "data": {
      "application/vnd.jupyter.widget-view+json": {
       "model_id": "e9cd5b0a9cae44ae9064db3999666615",
       "version_major": 2,
       "version_minor": 0
      },
      "text/plain": [
       "Combobox(value='', description='Item Name:', ensure_option=True, options=('ash_prime_set', 'atlas_prime_set', …"
      ]
     },
     "metadata": {},
     "output_type": "display_data"
    },
    {
     "data": {
      "application/vnd.jupyter.widget-view+json": {
       "model_id": "ff1f928ff6f04fd19fb3c939bc11caad",
       "version_major": 2,
       "version_minor": 0
      },
      "text/plain": [
       "Text(value='15', description='Time Interval:', placeholder='15', style=TextStyle(description_width='initial'))"
      ]
     },
     "metadata": {},
     "output_type": "display_data"
    },
    {
     "data": {
      "application/vnd.jupyter.widget-view+json": {
       "model_id": "8cde177123d946f0b12a6a426871cfd8",
       "version_major": 2,
       "version_minor": 0
      },
      "text/plain": [
       "Dropdown(description='Time Unit:', index=1, options=(('Seconds', 's'), ('Minutes', 'T'), ('Hours', 'h')), styl…"
      ]
     },
     "metadata": {},
     "output_type": "display_data"
    }
   ],
   "source": [
    "import ipywidgets as widgets\n",
    "from IPython.display import display\n",
    "x = widgets.Combobox(\n",
    "    # value='John',\n",
    "    placeholder='Choose A Warframe',\n",
    "    options=primeSetNames,\n",
    "    description='Item Name:',\n",
    "    ensure_option=True,\n",
    "    disabled=False,\n",
    "    style=dict(description_width='initial')\n",
    ")\n",
    "y = widgets.Text(\n",
    "    value='15',\n",
    "    placeholder='15',\n",
    "    description='Time Interval:',\n",
    "    disabled=False,\n",
    "    style=dict(description_width='initial')\n",
    ")\n",
    "z = widgets.Dropdown(\n",
    "    options=[(\"Seconds\", 's'), (\"Minutes\", 'T'), (\"Hours\", 'h')],\n",
    "    value='T',\n",
    "    description='Time Unit:',\n",
    "    disabled=False,\n",
    "    style=dict(description_width='initial')\n",
    ")\n",
    "timeOpDic = {\"s\" : \"second\", \"T\": \"minute\", \"h\": \"hour\"}\n",
    "\n",
    "print(\"Uses data sampled 3 times per second (total, not per item)\\nand displays the last 20 rows of a dataframe created by taking\\nthe time-weighted average of the full dataframe of samples\\nto show trends in prices over time.\")\n",
    "display(x)\n",
    "display(y)\n",
    "display(z)"
   ]
  },
  {
   "cell_type": "code",
   "execution_count": 227,
   "id": "bbc06110-632c-4450-8a6f-c193735ad0a4",
   "metadata": {},
   "outputs": [
    {
     "data": {
      "application/vnd.jupyter.widget-view+json": {
       "model_id": "e9a1b8f43d7e456dac7786e9e7e542c3",
       "version_major": 2,
       "version_minor": 0
      },
      "text/plain": [
       "Button(description='Show Data!', style=ButtonStyle())"
      ]
     },
     "metadata": {},
     "output_type": "display_data"
    },
    {
     "data": {
      "application/vnd.jupyter.widget-view+json": {
       "model_id": "ac5940cff5e245d2ad4ddc9ebff7614d",
       "version_major": 2,
       "version_minor": 0
      },
      "text/plain": [
       "Output()"
      ]
     },
     "metadata": {},
     "output_type": "display_data"
    }
   ],
   "source": [
    "from IPython.display import clear_output\n",
    "import plotly.express as px\n",
    "from plotly_resampler import register_plotly_resampler\n",
    "import time\n",
    "\n",
    "# Call the register function once and all Figures/FigureWidgets will be wrapped\n",
    "# according to the register_plotly_resampler its `mode` argument\n",
    "register_plotly_resampler(mode='auto')\n",
    "\n",
    "pd.options.plotting.backend = \"plotly\"\n",
    "dataframeButton = widgets.Button(description=\"Show Data!\")\n",
    "output = widgets.Output()\n",
    "\n",
    "display(dataframeButton, output)\n",
    "\n",
    "def on_button_clicked(b):\n",
    "    with output:\n",
    "        clear_output(wait=True)\n",
    "        try:\n",
    "            timeStep = y.value + z.value\n",
    "            DF = initDF(x.value)\n",
    "            fig = DF.plot(\n",
    "                x='datetime', \n",
    "                y=['BuyerPrice', 'SellerPrice'], \n",
    "                title=f\"Price Vs Time (Raw)\",\n",
    "            )\n",
    "            fig.show()\n",
    "            \n",
    "            TWADF = convertTWA(DF, timeStep)\n",
    "            TWADF = TWADF.iloc[:-1]\n",
    "            filteredDF = clearMissingData(DF, TWADF, timeStep)\n",
    "            \n",
    "            fig = filteredDF.plot(\n",
    "                x='datetime', \n",
    "                y=['BuyerPrice', 'SellerPrice'], \n",
    "                title=f\"Price Vs Time (Time Weighted Average)<br><sup>Averaged by {y.value} {timeOpDic[z.value]} intervals</sup>\",\n",
    "            )\n",
    "            fig.show()\n",
    "            on_button_clicked.data = (DF, TWADF, filteredDF, timeStep)\n",
    "            print(\"*Gaps imply no data was collected during that time interval.\")\n",
    "            #print(e - s)\n",
    "            return on_button_clicked.data\n",
    "            \n",
    "        except FileNotFoundError:\n",
    "            print(\"Enter A Valid Warframe Name\")\n",
    "        except TypeError:\n",
    "            print(\"Enter a smaller time interval, \\nthere isn't enough data to support this interval yet.\")\n",
    "        \n",
    "\n",
    "\n",
    "dataframeButton.on_click(on_button_clicked)"
   ]
  },
  {
   "cell_type": "code",
   "execution_count": 220,
   "id": "ab01b6f1-cd1e-44b1-8482-28ac84a726f7",
   "metadata": {},
   "outputs": [],
   "source": [
    "DF, TWADF, filteredDF, timeInterval = on_button_clicked.data"
   ]
  }
 ],
 "metadata": {
  "kernelspec": {
   "display_name": "Python 3 (ipykernel)",
   "language": "python",
   "name": "python3"
  },
  "language_info": {
   "codemirror_mode": {
    "name": "ipython",
    "version": 3
   },
   "file_extension": ".py",
   "mimetype": "text/x-python",
   "name": "python",
   "nbconvert_exporter": "python",
   "pygments_lexer": "ipython3",
   "version": "3.11.0"
  }
 },
 "nbformat": 4,
 "nbformat_minor": 5
}
