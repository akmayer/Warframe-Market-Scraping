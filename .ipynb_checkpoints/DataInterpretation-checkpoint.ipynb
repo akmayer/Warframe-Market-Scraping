{
 "cells": [
  {
   "cell_type": "code",
   "execution_count": 2,
   "id": "0fd6512e-8d4c-4168-b1f4-659cf39fb4e1",
   "metadata": {},
   "outputs": [],
   "source": [
    "import pandas as pd\n",
    "from dateutil import parser\n",
    "import pandas as pd\n",
    "from dateutil import parser\n",
    "from datetime import datetime, timedelta\n",
    "import numpy as np\n",
    "#primeDF = pd.read_csv(f\"itemDataFrames/ash_prime_set.csv\", index_col=0)\n",
    "#print(parser.parse(\"2024-01-19 02:17:31\") - parser.parse(\"2022-01-19 02:17:31\"))"
   ]
  },
  {
   "cell_type": "code",
   "execution_count": 3,
   "id": "42631cad-e926-4e43-b6ed-151dbb4e7f19",
   "metadata": {},
   "outputs": [],
   "source": [
    "#From https://stackoverflow.com/questions/46030055/python-time-weighted-average-pandas-grouped-by-time-interval\n",
    "#Answer by hugovdberg\n",
    "def resample_time_weighted_mean(x, target_index, closed=None, label=None):\n",
    "    shift = 1 if closed == \"right\" else -1\n",
    "    fill = \"bfill\" if closed == \"right\" else \"ffill\"\n",
    "    # Determine length of each interval (daylight saving aware)\n",
    "    extended_index = target_index.union(\n",
    "        [target_index[0] - target_index.freq, target_index[-1] + target_index.freq]\n",
    "    )\n",
    "    interval_lengths = -extended_index.to_series().diff(periods=shift)\n",
    "\n",
    "    # Create a combined index of the source index and target index and reindex to combined index\n",
    "    combined_index = x.index.union(extended_index)\n",
    "    x = x.reindex(index=combined_index, method=fill)\n",
    "    interval_lengths = interval_lengths.reindex(index=combined_index, method=fill)\n",
    "\n",
    "    # Determine weights of each value and multiply source values\n",
    "    weights = -x.index.to_series().diff(periods=shift) / interval_lengths\n",
    "    x = x.mul(weights, axis=0)\n",
    "\n",
    "    # Resample to new index, the final reindex is necessary because resample \n",
    "    # might return more rows based on the frequency\n",
    "    return (\n",
    "        x.resample(target_index.freq, closed=closed, label=label)\n",
    "        .sum()\n",
    "        .reindex(target_index)\n",
    "    )"
   ]
  },
  {
   "cell_type": "code",
   "execution_count": 108,
   "id": "b105f78c-f8c0-4e63-b846-868417ad48ba",
   "metadata": {},
   "outputs": [],
   "source": [
    "\n",
    "#Returns a dataframe object with datetime column converted to datetime objects\n",
    "#itemName has underscores such as ash_prime_set\n",
    "def initDF(itemName):\n",
    "    df = pd.read_csv(f\"itemDataFrames/{itemName}.csv\", index_col=0)\n",
    "    df[\"datetime\"] = pd.to_datetime(df['datetime'])\n",
    "    return df\n",
    "\n",
    "#converts a dataframe to the timeWeightedAverage dataframe\n",
    "#timestep is a string of the form \"15min\" or \"30T\"\n",
    "def convertTWA(df, timeStep):\n",
    "    df = df.set_index(\"datetime\")\n",
    "    opts = dict(closed=\"right\", label=\"right\")\n",
    "    return resample_time_weighted_mean(\n",
    "        df, pd.DatetimeIndex(df.resample(timeStep, **opts).groups.keys(), freq=\"infer\"), **opts\n",
    "        ).reset_index(names=\"datetime\")\n",
    "\n",
    "#initializes from scratch a time weighted average dataframe according to\n",
    "#a timestep to group by - timestep is a string of the form \"15min\" or \"30T\"\n",
    "def initGroupedDF(itemName, timeStep):\n",
    "    return df\n",
    "\n",
    "def clearMissingData(originalDF, TWADF):\n",
    "    filteredTWA = TWADF.copy()\n",
    "    for i in TWADF.index[:-1]:\n",
    "        if len(originalDF[(originalDF['datetime'] >= TWADF['datetime'].iloc[i]) & (originalDF['datetime'] < TWADF['datetime'].iloc[i+1])]) == 0:\n",
    "            filteredTWA.iloc[i, [x for x in range(1, filteredTWA.shape[1])]] = None\n",
    "    return filteredTWA\n",
    "\n",
    "%run PrimeItemParser.ipynb\n",
    "#for name in primeSetNames:\n",
    "    #timeStep = \"15min\"\n",
    "    #df = initDF(name)\n",
    "    #TWAdf = convertTWA(df, timeStep)\n",
    "    #TWAdf = TWAdf.iloc[0:-1]\n",
    "    #filteredDF = clearMissingData(df, TWAdf)\n",
    "    #print(name)\n",
    "    #display(filteredDF)"
   ]
  },
  {
   "cell_type": "code",
   "execution_count": 119,
   "id": "3d1116fd-1732-4e4f-a175-dc9da21ccf62",
   "metadata": {},
   "outputs": [
    {
     "data": {
      "application/vnd.jupyter.widget-view+json": {
       "model_id": "d02e64e768224994a3ebdf6c0b410ac9",
       "version_major": 2,
       "version_minor": 0
      },
      "text/plain": [
       "Combobox(value='', description='Item Name:', ensure_option=True, options=('ash_prime_set', 'atlas_prime_set', …"
      ]
     },
     "metadata": {},
     "output_type": "display_data"
    },
    {
     "data": {
      "application/vnd.jupyter.widget-view+json": {
       "model_id": "ad62a6d1cadc4d0389119a55203d0699",
       "version_major": 2,
       "version_minor": 0
      },
      "text/plain": [
       "Text(value='15', description='Time Interval:', placeholder='15', style=TextStyle(description_width='initial'))"
      ]
     },
     "metadata": {},
     "output_type": "display_data"
    },
    {
     "data": {
      "application/vnd.jupyter.widget-view+json": {
       "model_id": "c445edbade7c444cb8c48ad32d6f47f0",
       "version_major": 2,
       "version_minor": 0
      },
      "text/plain": [
       "Dropdown(description='Time Unit:', index=1, options=(('Seconds', 's'), ('Minutes', 'min'), ('Hours', 'h')), st…"
      ]
     },
     "metadata": {},
     "output_type": "display_data"
    }
   ],
   "source": [
    "import ipywidgets as widgets\n",
    "from IPython.display import display\n",
    "x = widgets.Combobox(\n",
    "    # value='John',\n",
    "    placeholder='Choose A Warframe',\n",
    "    options=primeSetNames,\n",
    "    description='Item Name:',\n",
    "    ensure_option=True,\n",
    "    disabled=False,\n",
    "    style=dict(description_width='initial')\n",
    ")\n",
    "y = widgets.Text(\n",
    "    value='15',\n",
    "    placeholder='15',\n",
    "    description='Time Interval:',\n",
    "    disabled=False,\n",
    "    style=dict(description_width='initial')\n",
    ")\n",
    "z = widgets.Dropdown(\n",
    "    options=[(\"Seconds\", 's'), (\"Minutes\", 'min'), (\"Hours\", 'h')],\n",
    "    value='min',\n",
    "    description='Time Unit:',\n",
    "    disabled=False,\n",
    "    style=dict(description_width='initial')\n",
    ")\n",
    "timeOpDic = {\"s\" : \"second\", \"min\": \"minute\", \"h\": \"hour\"}\n",
    "\n",
    "display(x)\n",
    "display(y)\n",
    "display(z)"
   ]
  },
  {
   "cell_type": "code",
   "execution_count": 121,
   "id": "bbc06110-632c-4450-8a6f-c193735ad0a4",
   "metadata": {},
   "outputs": [
    {
     "data": {
      "application/vnd.jupyter.widget-view+json": {
       "model_id": "2e5fc9c7c7854b418ca0c928db5ce202",
       "version_major": 2,
       "version_minor": 0
      },
      "text/plain": [
       "Button(description='Show DataFrame!', style=ButtonStyle())"
      ]
     },
     "metadata": {},
     "output_type": "display_data"
    },
    {
     "data": {
      "application/vnd.jupyter.widget-view+json": {
       "model_id": "381bb5df08d14afcb3c48a8b509c74be",
       "version_major": 2,
       "version_minor": 0
      },
      "text/plain": [
       "Output()"
      ]
     },
     "metadata": {},
     "output_type": "display_data"
    }
   ],
   "source": [
    "from IPython.display import clear_output\n",
    "button = widgets.Button(description=\"Show DataFrame!\")\n",
    "output = widgets.Output()\n",
    "\n",
    "display(button, output)\n",
    "\n",
    "def on_button_clicked(b):\n",
    "    with output:\n",
    "        clear_output(wait=True)\n",
    "        timeStep = y.value + z.value\n",
    "        try:\n",
    "            df = initDF(x.value)\n",
    "            TWAdf = convertTWA(df, timeStep)\n",
    "            TWAdf = TWAdf.iloc[0:-1]\n",
    "            filteredDF = clearMissingData(df, TWAdf)\n",
    "            print(f\"Displaying last 20 rows of {x.value.replace('_', ' ').title()}\\nGrouped by {y.value} {timeOpDic[z.value]} intervals.\")\n",
    "            display(filteredDF[-20:])\n",
    "            print(\"*NaN Values imply no data was collected during the time window.\")\n",
    "        except FileNotFoundError:\n",
    "            print(\"Enter A Valid Warframe Name\")\n",
    "\n",
    "button.on_click(on_button_clicked)"
   ]
  },
  {
   "cell_type": "code",
   "execution_count": 126,
   "id": "81b102fa-1526-432f-9e23-6cf0aff65c8c",
   "metadata": {},
   "outputs": [],
   "source": [
    "messyDF = pd.DataFrame(\n",
    "    [\n",
    "        32.9,\n",
    "        29.83,\n",
    "        45.76,\n",
    "        16.22,\n",
    "        17.33,\n",
    "        23.4,\n",
    "        150.12,\n",
    "        100.29,\n",
    "        38.45,\n",
    "        67.12,\n",
    "        20.0,\n",
    "        58.41,\n",
    "        58.32,\n",
    "        59.89,\n",
    "        100\n",
    "    ],\n",
    "    index=pd.to_datetime(\n",
    "        [\n",
    "            \"2017-01-01 2:05:00\",\n",
    "            \"2017-01-01 2:07:30\",\n",
    "            \"2017-01-01 2:10:00\",\n",
    "            \"2017-01-01 2:15:00\",\n",
    "            \"2017-01-01 2:20:00\",\n",
    "            \"2017-01-01 2:25:00\",\n",
    "            \"2017-01-01 2:28:45\",\n",
    "            \"2017-01-01 2:30:00\",\n",
    "            \"2017-01-01 2:35:00\",\n",
    "            \"2017-01-01 2:40:00\",\n",
    "            \"2017-01-01 2:45:00\",\n",
    "            \"2017-01-01 2:50:00\",\n",
    "            \"2017-01-01 2:55:00\",\n",
    "            \"2017-01-01 3:00:00\",\n",
    "            \"2017-01-01 4:00:00\"\n",
    "        ]\n",
    "    ),\n",
    ")\n",
    "messyDF = messyDF.reset_index(names=\"datetime\")\n",
    "\n",
    "\n",
    "cleanDF = convertTWA(messyDF, \"15min\")\n",
    "\n",
    "def clearMissingDatas(originalDF, TWADF):\n",
    "    filteredTWA = TWADF.copy()\n",
    "    for i in TWADF.index[:-1]:\n",
    "        if len(originalDF[(originalDF['datetime'] >= TWADF['datetime'].iloc[i]) & (originalDF['datetime'] < TWADF['datetime'].iloc[i+1])]) == 0:\n",
    "            filteredTWA.iloc[i] = None\n",
    "    return filteredTWA\n",
    "\n",
    "filtered = clearMissingDatas(messyDF, cleanDF)\n",
    "\n",
    "if False:\n",
    "    display(messyDF)\n",
    "    display(cleanDF)     \n",
    "    display(filtered)"
   ]
  },
  {
   "cell_type": "code",
   "execution_count": 127,
   "id": "f01332e6-40e8-4af2-9812-949f9ad96011",
   "metadata": {},
   "outputs": [],
   "source": [
    "cleanDF.iloc[3] = None"
   ]
  },
  {
   "cell_type": "code",
   "execution_count": 128,
   "id": "e953c81a-4150-4068-9da3-a9b1e2f3235b",
   "metadata": {},
   "outputs": [
    {
     "data": {
      "text/html": [
       "<div>\n",
       "<style scoped>\n",
       "    .dataframe tbody tr th:only-of-type {\n",
       "        vertical-align: middle;\n",
       "    }\n",
       "\n",
       "    .dataframe tbody tr th {\n",
       "        vertical-align: top;\n",
       "    }\n",
       "\n",
       "    .dataframe thead th {\n",
       "        text-align: right;\n",
       "    }\n",
       "</style>\n",
       "<table border=\"1\" class=\"dataframe\">\n",
       "  <thead>\n",
       "    <tr style=\"text-align: right;\">\n",
       "      <th></th>\n",
       "      <th>datetime</th>\n",
       "      <th>0</th>\n",
       "    </tr>\n",
       "  </thead>\n",
       "  <tbody>\n",
       "    <tr>\n",
       "      <th>0</th>\n",
       "      <td>2017-01-01 02:15:00</td>\n",
       "      <td>28.971667</td>\n",
       "    </tr>\n",
       "    <tr>\n",
       "      <th>1</th>\n",
       "      <td>2017-01-01 02:30:00</td>\n",
       "      <td>59.464167</td>\n",
       "    </tr>\n",
       "    <tr>\n",
       "      <th>2</th>\n",
       "      <td>2017-01-01 02:45:00</td>\n",
       "      <td>41.856667</td>\n",
       "    </tr>\n",
       "    <tr>\n",
       "      <th>3</th>\n",
       "      <td>NaT</td>\n",
       "      <td>NaN</td>\n",
       "    </tr>\n",
       "    <tr>\n",
       "      <th>4</th>\n",
       "      <td>2017-01-01 03:15:00</td>\n",
       "      <td>100.000000</td>\n",
       "    </tr>\n",
       "    <tr>\n",
       "      <th>5</th>\n",
       "      <td>2017-01-01 03:30:00</td>\n",
       "      <td>100.000000</td>\n",
       "    </tr>\n",
       "    <tr>\n",
       "      <th>6</th>\n",
       "      <td>2017-01-01 03:45:00</td>\n",
       "      <td>100.000000</td>\n",
       "    </tr>\n",
       "    <tr>\n",
       "      <th>7</th>\n",
       "      <td>2017-01-01 04:00:00</td>\n",
       "      <td>100.000000</td>\n",
       "    </tr>\n",
       "  </tbody>\n",
       "</table>\n",
       "</div>"
      ],
      "text/plain": [
       "             datetime           0\n",
       "0 2017-01-01 02:15:00   28.971667\n",
       "1 2017-01-01 02:30:00   59.464167\n",
       "2 2017-01-01 02:45:00   41.856667\n",
       "3                 NaT         NaN\n",
       "4 2017-01-01 03:15:00  100.000000\n",
       "5 2017-01-01 03:30:00  100.000000\n",
       "6 2017-01-01 03:45:00  100.000000\n",
       "7 2017-01-01 04:00:00  100.000000"
      ]
     },
     "execution_count": 128,
     "metadata": {},
     "output_type": "execute_result"
    }
   ],
   "source": [
    "cleanDF"
   ]
  },
  {
   "cell_type": "code",
   "execution_count": null,
   "id": "bfcac3ed-e87b-4086-8898-222cc1ebccf7",
   "metadata": {},
   "outputs": [],
   "source": []
  }
 ],
 "metadata": {
  "kernelspec": {
   "display_name": "Python 3 (ipykernel)",
   "language": "python",
   "name": "python3"
  },
  "language_info": {
   "codemirror_mode": {
    "name": "ipython",
    "version": 3
   },
   "file_extension": ".py",
   "mimetype": "text/x-python",
   "name": "python",
   "nbconvert_exporter": "python",
   "pygments_lexer": "ipython3",
   "version": "3.11.0"
  }
 },
 "nbformat": 4,
 "nbformat_minor": 5
}
