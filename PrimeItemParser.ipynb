{
 "cells": [
  {
   "cell_type": "code",
   "execution_count": 2,
   "id": "722e9e62-3013-49e6-83c2-0a917ffb9113",
   "metadata": {},
   "outputs": [],
   "source": [
    "allPrimeFrames = \"\"\"Ash Prime\n",
    "Ash PrimeIcon272.png Ash Prime (V)\n",
    "Atlas Prime\n",
    "Atlas PrimeIcon272.png Atlas Prime (V)\n",
    "Banshee Prime\n",
    "Banshee PrimeIcon272.png Banshee Prime (V)\n",
    "Baruuk Prime\n",
    "BaruukPrimeIcon272.png Baruuk Prime\n",
    "Chroma Prime\n",
    "Chroma PrimeIcon272.png Chroma Prime (V)\n",
    "Ember Prime\n",
    "Ember PrimeIcon272.png Ember Prime (V)\n",
    "Equinox Prime\n",
    "EquinoxPrimeIcon.png Equinox Prime (V)\n",
    "Excalibur Prime\n",
    "Excalibur PrimeIcon272.png Excalibur Prime1\n",
    "Frost Prime\n",
    "Frost PrimeIcon272.png Frost Prime (V)\n",
    "Gara Prime\n",
    "GaraPrimeIcon.png Gara Prime\n",
    "Garuda Prime\n",
    "GarudaPrimeIcon.png Garuda Prime\n",
    "Harrow Prime\n",
    "HarrowPrimeIcon.png Harrow Prime\n",
    "Hydroid Prime\n",
    "Hydroid PrimeIcon272.png Hydroid Prime (V)\n",
    "Inaros Prime\n",
    "InarosPrimeIcon272.png Inaros Prime (V)\n",
    "Ivara Prime\n",
    "Ivara PrimeIcon272.png Ivara Prime (V)\n",
    "Khora Prime\n",
    "KhoraPrimeIcon272.png Khora Prime\n",
    "Limbo Prime\n",
    "Limbo PrimeIcon272.png Limbo Prime (V)\n",
    "Loki Prime\n",
    "Loki PrimeIcon272.png Loki Prime\n",
    "Mag Prime\n",
    "Mag PrimeIcon272.png Mag Prime (V)\n",
    "Mesa Prime\n",
    "MesaPrimeIcon272.png Mesa Prime (V)\n",
    "Mirage Prime\n",
    "Mirage PrimeIcon272.png Mirage Prime (V)\n",
    "Nekros Prime\n",
    "Nekros PrimeIcon272.png Nekros Prime (V)\n",
    "Nezha Prime\n",
    "NezhaPrimeIcon272.png Nezha Prime (V)\n",
    "Nidus Prime\n",
    "NidusPrimeIcon272.png Nidus Prime\n",
    "Nova Prime\n",
    "Nova PrimeIcon272.png Nova Prime (V)\n",
    "Nyx Prime\n",
    "Nyx PrimeIcon272.png Nyx Prime (P)\n",
    "Oberon Prime\n",
    "Oberon PrimeIcon272.png Oberon Prime (V)\n",
    "Octavia Prime\n",
    "Octavia PrimeIcon272.png Octavia Prime (V)\n",
    "Revenant Prime\n",
    "RevenantPrimeIcon272.png Revenant Prime\n",
    "Rhino Prime\n",
    "Rhino PrimeIcon272.png Rhino Prime (V)\n",
    "Saryn Prime\n",
    "Saryn PrimeIcon272.png Saryn Prime (V)\n",
    "Titania Prime\n",
    "TitaniaPrimeIcon272.png Titania Prime (V)\n",
    "Trinity Prime\n",
    "Trinity PrimeIcon272.png Trinity Prime (V)\n",
    "Valkyr Prime\n",
    "Valkyr PrimeIcon272.png Valkyr Prime (P)\n",
    "Vauban Prime\n",
    "Vauban PrimeIcon272.png Vauban Prime (V)\n",
    "Volt Prime\n",
    "Volt PrimeIcon272.png Volt Prime (B)\n",
    "Wukong Prime\n",
    "Wukong PrimeIcon272.png Wukong Prime (V)\n",
    "Zephyr Prime\n",
    "Zephyr PrimeIcon272.png Zephyr Prime (V)\"\"\""
   ]
  },
  {
   "cell_type": "code",
   "execution_count": 15,
   "id": "6f17526c-256c-42e0-ac37-1c94a8ed81e0",
   "metadata": {},
   "outputs": [
    {
     "name": "stdout",
     "output_type": "stream",
     "text": [
      "['Ash', 'Atlas', 'Banshee', 'Baruuk', 'Chroma', 'Ember', 'Equinox', 'Frost', 'Gara', 'Garuda', 'Harrow', 'Hydroid', 'Inaros', 'Ivara', 'Khora', 'Limbo', 'Loki', 'Mag', 'Mesa', 'Mirage', 'Nekros', 'Nezha', 'Nidus', 'Nova', 'Nyx', 'Oberon', 'Octavia', 'Revenant', 'Rhino', 'Saryn', 'Titania', 'Trinity', 'Valkyr', 'Vauban', 'Volt', 'Wukong', 'Zephyr']\n"
     ]
    }
   ],
   "source": [
    "primeList = allPrimeFrames.split(\"\\n\")\n",
    "primeNames = sorted(list(set([prime.split(\" \")[0] for prime in primeList if not (\".png\" in prime.split(\" \")[0])])))\n",
    "primeNames\n",
    "primeNames.remove(\"Excalibur\")\n",
    "primeSetNames = [f\"{primeName.lower()}_prime_set\" for primeName in primeNames]\n",
    "\n",
    "#print(primeNames)"
   ]
  },
  {
   "cell_type": "code",
   "execution_count": null,
   "id": "488cc613-5084-49e5-89d1-c074eac4bf7b",
   "metadata": {},
   "outputs": [],
   "source": []
  }
 ],
 "metadata": {
  "kernelspec": {
   "display_name": "Python 3 (ipykernel)",
   "language": "python",
   "name": "python3"
  },
  "language_info": {
   "codemirror_mode": {
    "name": "ipython",
    "version": 3
   },
   "file_extension": ".py",
   "mimetype": "text/x-python",
   "name": "python",
   "nbconvert_exporter": "python",
   "pygments_lexer": "ipython3",
   "version": "3.11.0"
  }
 },
 "nbformat": 4,
 "nbformat_minor": 5
}
